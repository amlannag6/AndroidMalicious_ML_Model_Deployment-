{
  "nbformat": 4,
  "nbformat_minor": 0,
  "metadata": {
    "colab": {
      "name": "predModel_Static.ipynb",
      "provenance": [],
      "collapsed_sections": [],
      "authorship_tag": "ABX9TyO3N++pernH5i1I1m1vz14t",
      "include_colab_link": true
    },
    "kernelspec": {
      "name": "python3",
      "display_name": "Python 3"
    },
    "language_info": {
      "name": "python"
    }
  },
  "cells": [
    {
      "cell_type": "markdown",
      "metadata": {
        "id": "view-in-github",
        "colab_type": "text"
      },
      "source": [
        "<a href=\"https://colab.research.google.com/github/amlannag6/AndroidMalicious_ML_Model_Deployment-/blob/main/predModel_Static.ipynb\" target=\"_parent\"><img src=\"https://colab.research.google.com/assets/colab-badge.svg\" alt=\"Open In Colab\"/></a>"
      ]
    },
    {
      "cell_type": "code",
      "execution_count": null,
      "metadata": {
        "id": "wybypji4P8Ok"
      },
      "outputs": [],
      "source": [
        "from sklearn.naive_bayes import GaussianNB, BernoulliNB\n",
        "from sklearn.metrics import accuracy_score, classification_report\n",
        "from sklearn.ensemble import BaggingClassifier\n",
        "from sklearn.neighbors import KNeighborsClassifier\n",
        "from sklearn.linear_model import SGDClassifier\n",
        "from sklearn.model_selection import train_test_split\n",
        "from sklearn.metrics import cohen_kappa_score\n",
        "from sklearn.metrics import confusion_matrix\n",
        "from sklearn.ensemble import RandomForestClassifier\n",
        "\n",
        "from sklearn import preprocessing\n",
        "import torch\n",
        "from sklearn import svm\n",
        "from sklearn import tree\n",
        "import pandas as pd\n",
        "#from sklearn.externals import joblib\n",
        "import pickle\n",
        "import numpy as np\n",
        "import seaborn as sns\n",
        "\n",
        "from sklearn.metrics import f1_score\n",
        "from sklearn.metrics import precision_score\n",
        "from sklearn.metrics import recall_score\n",
        "from sklearn.metrics import average_precision_score\n",
        "from sklearn.metrics import precision_recall_curve\n",
        "import matplotlib.pyplot as plt\n",
        "\n",
        "from sklearn.pipeline import make_pipeline\n",
        "#from sklearn.preprocessing import Imputer\n",
        "from sklearn.model_selection import cross_val_score\n",
        "\n",
        "from tensorflow.keras.models import Sequential\n",
        "from tensorflow.keras.layers import Dense, Flatten, Conv2D, MaxPooling2D,Dropout\n",
        "from tensorflow.keras.losses import sparse_categorical_crossentropy\n",
        "from tensorflow.keras.optimizers import Adam\n",
        "from sklearn.model_selection import KFold\n",
        "from sklearn.svm import SVR\n",
        "from sklearn.preprocessing import MinMaxScaler\n",
        "from sklearn.metrics import confusion_matrix,accuracy_score,precision_score,f1_score\n",
        "from collections import Counter\n",
        "from imblearn.over_sampling import SMOTE\n",
        "from sklearn.metrics import brier_score_loss\n",
        "from sklearn.metrics import roc_auc_score\n",
        "\n",
        "from sklearn.feature_selection import SelectKBest \n",
        "from sklearn.feature_selection import chi2"
      ]
    },
    {
      "cell_type": "code",
      "source": [
        "import pandas as pd\n",
        "\n",
        "df = pd.read_csv('https://raw.githubusercontent.com/amlannag6/AndroidMalicious_ML_Model_Deployment-/main/Prepared_DataSets/Dataset100_labled_fullTest.csv')\n",
        "df.head()"
      ],
      "metadata": {
        "colab": {
          "base_uri": "https://localhost:8080/",
          "height": 282
        },
        "id": "oQ0hh6xXQIvu",
        "outputId": "e8a7d586-57c4-4f19-e9e3-f4748d663f9f"
      },
      "execution_count": null,
      "outputs": [
        {
          "output_type": "execute_result",
          "data": {
            "text/plain": [
              "                                        package_name  SEND_SMS  \\\n",
              "0                                    com.fungqyy.apk         1   \n",
              "1                   NetLoop_VPN_5.0.4_apk-dl.com.apk         0   \n",
              "2  md.obsidian_1.1.0-38_minAPI21_arm64-v8a,armeab...         0   \n",
              "3                                           3168.apk         0   \n",
              "4                                    braga-store.apk         0   \n",
              "\n",
              "   READ_PHONE_STATE  GET_ACCOUNTS  RECEIVE_SMS  READ_SMS  USE_CREDENTIALS  \\\n",
              "0                 1             0            0         1                0   \n",
              "1                 1             0            0         0                0   \n",
              "2                 0             0            0         0                0   \n",
              "3                 1             0            0         1                0   \n",
              "4                 0             1            0         0                1   \n",
              "\n",
              "   MANAGE_ACCOUNTS  WRITE_SMS  READ_SYNC_SETTINGS  ...  defineClass  \\\n",
              "0                0          1                   0  ...            0   \n",
              "1                0          0                   0  ...            0   \n",
              "2                0          0                   0  ...            0   \n",
              "3                0          1                   0  ...            0   \n",
              "4                1          0                   1  ...            0   \n",
              "\n",
              "   android.intent.action.PACKAGE_RESTARTED  android.intent.action.CALL_BUTTON  \\\n",
              "0                                        0                                  0   \n",
              "1                                        0                                  0   \n",
              "2                                        0                                  0   \n",
              "3                                        0                                  0   \n",
              "4                                        0                                  0   \n",
              "\n",
              "   findClass  intent.action.RUN  android.intent.action.SET_WALLPAPER  \\\n",
              "0          0                  0                                    0   \n",
              "1          0                  0                                    0   \n",
              "2          0                  0                                    0   \n",
              "3          0                  0                                    0   \n",
              "4          0                  0                                    0   \n",
              "\n",
              "   Runtime.loadLibrary  android.intent.action.BATTERY_LOW  \\\n",
              "0                    0                                  0   \n",
              "1                    0                                  0   \n",
              "2                    0                                  0   \n",
              "3                    0                                  0   \n",
              "4                    0                                  0   \n",
              "\n",
              "   android.intent.action.ACTION_POWER_CONNECTED  Class  \n",
              "0                                             0      1  \n",
              "1                                             0      0  \n",
              "2                                             0      0  \n",
              "3                                             0      1  \n",
              "4                                             0      0  \n",
              "\n",
              "[5 rows x 208 columns]"
            ],
            "text/html": [
              "\n",
              "  <div id=\"df-ae7c2850-d439-4d76-b0f5-0a0120fda062\">\n",
              "    <div class=\"colab-df-container\">\n",
              "      <div>\n",
              "<style scoped>\n",
              "    .dataframe tbody tr th:only-of-type {\n",
              "        vertical-align: middle;\n",
              "    }\n",
              "\n",
              "    .dataframe tbody tr th {\n",
              "        vertical-align: top;\n",
              "    }\n",
              "\n",
              "    .dataframe thead th {\n",
              "        text-align: right;\n",
              "    }\n",
              "</style>\n",
              "<table border=\"1\" class=\"dataframe\">\n",
              "  <thead>\n",
              "    <tr style=\"text-align: right;\">\n",
              "      <th></th>\n",
              "      <th>package_name</th>\n",
              "      <th>SEND_SMS</th>\n",
              "      <th>READ_PHONE_STATE</th>\n",
              "      <th>GET_ACCOUNTS</th>\n",
              "      <th>RECEIVE_SMS</th>\n",
              "      <th>READ_SMS</th>\n",
              "      <th>USE_CREDENTIALS</th>\n",
              "      <th>MANAGE_ACCOUNTS</th>\n",
              "      <th>WRITE_SMS</th>\n",
              "      <th>READ_SYNC_SETTINGS</th>\n",
              "      <th>...</th>\n",
              "      <th>defineClass</th>\n",
              "      <th>android.intent.action.PACKAGE_RESTARTED</th>\n",
              "      <th>android.intent.action.CALL_BUTTON</th>\n",
              "      <th>findClass</th>\n",
              "      <th>intent.action.RUN</th>\n",
              "      <th>android.intent.action.SET_WALLPAPER</th>\n",
              "      <th>Runtime.loadLibrary</th>\n",
              "      <th>android.intent.action.BATTERY_LOW</th>\n",
              "      <th>android.intent.action.ACTION_POWER_CONNECTED</th>\n",
              "      <th>Class</th>\n",
              "    </tr>\n",
              "  </thead>\n",
              "  <tbody>\n",
              "    <tr>\n",
              "      <th>0</th>\n",
              "      <td>com.fungqyy.apk</td>\n",
              "      <td>1</td>\n",
              "      <td>1</td>\n",
              "      <td>0</td>\n",
              "      <td>0</td>\n",
              "      <td>1</td>\n",
              "      <td>0</td>\n",
              "      <td>0</td>\n",
              "      <td>1</td>\n",
              "      <td>0</td>\n",
              "      <td>...</td>\n",
              "      <td>0</td>\n",
              "      <td>0</td>\n",
              "      <td>0</td>\n",
              "      <td>0</td>\n",
              "      <td>0</td>\n",
              "      <td>0</td>\n",
              "      <td>0</td>\n",
              "      <td>0</td>\n",
              "      <td>0</td>\n",
              "      <td>1</td>\n",
              "    </tr>\n",
              "    <tr>\n",
              "      <th>1</th>\n",
              "      <td>NetLoop_VPN_5.0.4_apk-dl.com.apk</td>\n",
              "      <td>0</td>\n",
              "      <td>1</td>\n",
              "      <td>0</td>\n",
              "      <td>0</td>\n",
              "      <td>0</td>\n",
              "      <td>0</td>\n",
              "      <td>0</td>\n",
              "      <td>0</td>\n",
              "      <td>0</td>\n",
              "      <td>...</td>\n",
              "      <td>0</td>\n",
              "      <td>0</td>\n",
              "      <td>0</td>\n",
              "      <td>0</td>\n",
              "      <td>0</td>\n",
              "      <td>0</td>\n",
              "      <td>0</td>\n",
              "      <td>0</td>\n",
              "      <td>0</td>\n",
              "      <td>0</td>\n",
              "    </tr>\n",
              "    <tr>\n",
              "      <th>2</th>\n",
              "      <td>md.obsidian_1.1.0-38_minAPI21_arm64-v8a,armeab...</td>\n",
              "      <td>0</td>\n",
              "      <td>0</td>\n",
              "      <td>0</td>\n",
              "      <td>0</td>\n",
              "      <td>0</td>\n",
              "      <td>0</td>\n",
              "      <td>0</td>\n",
              "      <td>0</td>\n",
              "      <td>0</td>\n",
              "      <td>...</td>\n",
              "      <td>0</td>\n",
              "      <td>0</td>\n",
              "      <td>0</td>\n",
              "      <td>0</td>\n",
              "      <td>0</td>\n",
              "      <td>0</td>\n",
              "      <td>0</td>\n",
              "      <td>0</td>\n",
              "      <td>0</td>\n",
              "      <td>0</td>\n",
              "    </tr>\n",
              "    <tr>\n",
              "      <th>3</th>\n",
              "      <td>3168.apk</td>\n",
              "      <td>0</td>\n",
              "      <td>1</td>\n",
              "      <td>0</td>\n",
              "      <td>0</td>\n",
              "      <td>1</td>\n",
              "      <td>0</td>\n",
              "      <td>0</td>\n",
              "      <td>1</td>\n",
              "      <td>0</td>\n",
              "      <td>...</td>\n",
              "      <td>0</td>\n",
              "      <td>0</td>\n",
              "      <td>0</td>\n",
              "      <td>0</td>\n",
              "      <td>0</td>\n",
              "      <td>0</td>\n",
              "      <td>0</td>\n",
              "      <td>0</td>\n",
              "      <td>0</td>\n",
              "      <td>1</td>\n",
              "    </tr>\n",
              "    <tr>\n",
              "      <th>4</th>\n",
              "      <td>braga-store.apk</td>\n",
              "      <td>0</td>\n",
              "      <td>0</td>\n",
              "      <td>1</td>\n",
              "      <td>0</td>\n",
              "      <td>0</td>\n",
              "      <td>1</td>\n",
              "      <td>1</td>\n",
              "      <td>0</td>\n",
              "      <td>1</td>\n",
              "      <td>...</td>\n",
              "      <td>0</td>\n",
              "      <td>0</td>\n",
              "      <td>0</td>\n",
              "      <td>0</td>\n",
              "      <td>0</td>\n",
              "      <td>0</td>\n",
              "      <td>0</td>\n",
              "      <td>0</td>\n",
              "      <td>0</td>\n",
              "      <td>0</td>\n",
              "    </tr>\n",
              "  </tbody>\n",
              "</table>\n",
              "<p>5 rows × 208 columns</p>\n",
              "</div>\n",
              "      <button class=\"colab-df-convert\" onclick=\"convertToInteractive('df-ae7c2850-d439-4d76-b0f5-0a0120fda062')\"\n",
              "              title=\"Convert this dataframe to an interactive table.\"\n",
              "              style=\"display:none;\">\n",
              "        \n",
              "  <svg xmlns=\"http://www.w3.org/2000/svg\" height=\"24px\"viewBox=\"0 0 24 24\"\n",
              "       width=\"24px\">\n",
              "    <path d=\"M0 0h24v24H0V0z\" fill=\"none\"/>\n",
              "    <path d=\"M18.56 5.44l.94 2.06.94-2.06 2.06-.94-2.06-.94-.94-2.06-.94 2.06-2.06.94zm-11 1L8.5 8.5l.94-2.06 2.06-.94-2.06-.94L8.5 2.5l-.94 2.06-2.06.94zm10 10l.94 2.06.94-2.06 2.06-.94-2.06-.94-.94-2.06-.94 2.06-2.06.94z\"/><path d=\"M17.41 7.96l-1.37-1.37c-.4-.4-.92-.59-1.43-.59-.52 0-1.04.2-1.43.59L10.3 9.45l-7.72 7.72c-.78.78-.78 2.05 0 2.83L4 21.41c.39.39.9.59 1.41.59.51 0 1.02-.2 1.41-.59l7.78-7.78 2.81-2.81c.8-.78.8-2.07 0-2.86zM5.41 20L4 18.59l7.72-7.72 1.47 1.35L5.41 20z\"/>\n",
              "  </svg>\n",
              "      </button>\n",
              "      \n",
              "  <style>\n",
              "    .colab-df-container {\n",
              "      display:flex;\n",
              "      flex-wrap:wrap;\n",
              "      gap: 12px;\n",
              "    }\n",
              "\n",
              "    .colab-df-convert {\n",
              "      background-color: #E8F0FE;\n",
              "      border: none;\n",
              "      border-radius: 50%;\n",
              "      cursor: pointer;\n",
              "      display: none;\n",
              "      fill: #1967D2;\n",
              "      height: 32px;\n",
              "      padding: 0 0 0 0;\n",
              "      width: 32px;\n",
              "    }\n",
              "\n",
              "    .colab-df-convert:hover {\n",
              "      background-color: #E2EBFA;\n",
              "      box-shadow: 0px 1px 2px rgba(60, 64, 67, 0.3), 0px 1px 3px 1px rgba(60, 64, 67, 0.15);\n",
              "      fill: #174EA6;\n",
              "    }\n",
              "\n",
              "    [theme=dark] .colab-df-convert {\n",
              "      background-color: #3B4455;\n",
              "      fill: #D2E3FC;\n",
              "    }\n",
              "\n",
              "    [theme=dark] .colab-df-convert:hover {\n",
              "      background-color: #434B5C;\n",
              "      box-shadow: 0px 1px 3px 1px rgba(0, 0, 0, 0.15);\n",
              "      filter: drop-shadow(0px 1px 2px rgba(0, 0, 0, 0.3));\n",
              "      fill: #FFFFFF;\n",
              "    }\n",
              "  </style>\n",
              "\n",
              "      <script>\n",
              "        const buttonEl =\n",
              "          document.querySelector('#df-ae7c2850-d439-4d76-b0f5-0a0120fda062 button.colab-df-convert');\n",
              "        buttonEl.style.display =\n",
              "          google.colab.kernel.accessAllowed ? 'block' : 'none';\n",
              "\n",
              "        async function convertToInteractive(key) {\n",
              "          const element = document.querySelector('#df-ae7c2850-d439-4d76-b0f5-0a0120fda062');\n",
              "          const dataTable =\n",
              "            await google.colab.kernel.invokeFunction('convertToInteractive',\n",
              "                                                     [key], {});\n",
              "          if (!dataTable) return;\n",
              "\n",
              "          const docLinkHtml = 'Like what you see? Visit the ' +\n",
              "            '<a target=\"_blank\" href=https://colab.research.google.com/notebooks/data_table.ipynb>data table notebook</a>'\n",
              "            + ' to learn more about interactive tables.';\n",
              "          element.innerHTML = '';\n",
              "          dataTable['output_type'] = 'display_data';\n",
              "          await google.colab.output.renderOutput(dataTable, element);\n",
              "          const docLink = document.createElement('div');\n",
              "          docLink.innerHTML = docLinkHtml;\n",
              "          element.appendChild(docLink);\n",
              "        }\n",
              "      </script>\n",
              "    </div>\n",
              "  </div>\n",
              "  "
            ]
          },
          "metadata": {},
          "execution_count": 6
        },
        {
          "output_type": "stream",
          "name": "stdout",
          "text": [
            "Warning: Total number of columns (208) exceeds max_columns (20) limiting to first (20) columns.\n"
          ]
        }
      ]
    },
    {
      "cell_type": "code",
      "source": [
        "df.drop(columns = 'package_name', axis = 1, inplace = True )"
      ],
      "metadata": {
        "id": "nOmDJyFVQmQ6"
      },
      "execution_count": null,
      "outputs": []
    },
    {
      "cell_type": "code",
      "source": [
        "df = df.astype(\"int64\")\n",
        "df.Class.value_counts()"
      ],
      "metadata": {
        "colab": {
          "base_uri": "https://localhost:8080/"
        },
        "id": "JHcO1bBTQfC5",
        "outputId": "9313c8c1-2d9a-42d2-90a3-d8d00451a24b"
      },
      "execution_count": null,
      "outputs": [
        {
          "output_type": "execute_result",
          "data": {
            "text/plain": [
              "1    62\n",
              "0    37\n",
              "Name: Class, dtype: int64"
            ]
          },
          "metadata": {},
          "execution_count": 13
        }
      ]
    },
    {
      "cell_type": "code",
      "source": [
        "df.shape"
      ],
      "metadata": {
        "colab": {
          "base_uri": "https://localhost:8080/"
        },
        "id": "pDcEYxueQzbz",
        "outputId": "dcf9f8c6-caab-4b3b-ab18-13a13e402bbd"
      },
      "execution_count": null,
      "outputs": [
        {
          "output_type": "execute_result",
          "data": {
            "text/plain": [
              "(99, 207)"
            ]
          },
          "metadata": {},
          "execution_count": 14
        }
      ]
    },
    {
      "cell_type": "code",
      "source": [
        "pd.Series.sort_values(df[df.Class==1].sum(axis=0), ascending=False)[1:11]"
      ],
      "metadata": {
        "colab": {
          "base_uri": "https://localhost:8080/"
        },
        "id": "0E5tQEbAQ1n4",
        "outputId": "bde8efef-3058-40cd-f3e3-7af7a956a4df"
      },
      "execution_count": null,
      "outputs": [
        {
          "output_type": "execute_result",
          "data": {
            "text/plain": [
              "android.intent.action.PACKAGE_REMOVED     250231\n",
              "Binder                                    202229\n",
              "android.intent.action.PACKAGE_REPLACED     79326\n",
              "transact                                   66156\n",
              "PackageInstaller                            7720\n",
              "java.lang.Class.forName                     6750\n",
              "android.os.Binder                           1645\n",
              "onBind                                      1161\n",
              "android.intent.action.PACKAGE_CHANGED       1108\n",
              "bindService                                  490\n",
              "dtype: int64"
            ]
          },
          "metadata": {},
          "execution_count": 16
        }
      ]
    },
    {
      "cell_type": "code",
      "source": [
        "pd.Series.sort_values(df[df.Class==0].sum(axis=0), ascending=False)[:10]"
      ],
      "metadata": {
        "colab": {
          "base_uri": "https://localhost:8080/"
        },
        "id": "cXgqe63-Q7eL",
        "outputId": "093c2ce6-c11b-4458-8ee2-9f8fbdb43bac"
      },
      "execution_count": null,
      "outputs": [
        {
          "output_type": "execute_result",
          "data": {
            "text/plain": [
              "android.intent.action.PACKAGE_ADDED       161906\n",
              "android.intent.action.PACKAGE_REMOVED     150352\n",
              "Binder                                    121198\n",
              "android.intent.action.PACKAGE_REPLACED     47644\n",
              "transact                                   39630\n",
              "PackageInstaller                            4719\n",
              "java.lang.Class.forName                     4170\n",
              "android.os.Binder                            983\n",
              "onBind                                       732\n",
              "android.intent.action.PACKAGE_CHANGED        683\n",
              "dtype: int64"
            ]
          },
          "metadata": {},
          "execution_count": 17
        }
      ]
    },
    {
      "cell_type": "code",
      "source": [
        "import matplotlib.pyplot as plt\n",
        "fig, axs =  plt.subplots(nrows=2, sharex=True)\n",
        "\n",
        "pd.Series.sort_values(df[df.Class==0].sum(axis=0), ascending=False)[:10].plot.bar(ax=axs[0])\n",
        "pd.Series.sort_values(df[df.Class==1].sum(axis=0), ascending=False)[1:11].plot.bar(ax=axs[1], color=\"red\")"
      ],
      "metadata": {
        "colab": {
          "base_uri": "https://localhost:8080/",
          "height": 484
        },
        "id": "yZ4AWAwhQ-ld",
        "outputId": "b4d05723-a377-4832-a4df-8f9cb03c4f20"
      },
      "execution_count": null,
      "outputs": [
        {
          "output_type": "execute_result",
          "data": {
            "text/plain": [
              "<matplotlib.axes._subplots.AxesSubplot at 0x7ff5d5830a50>"
            ]
          },
          "metadata": {},
          "execution_count": 19
        },
        {
          "output_type": "display_data",
          "data": {
            "text/plain": [
              "<Figure size 432x288 with 2 Axes>"
            ],
            "image/png": "[encoded data removed]"
          },
          "metadata": {
            "needs_background": "light"
          }
        }
      ]
    },
    {
      "cell_type": "code",
      "source": [
        "X_train, X_test, y_train, y_test = train_test_split(df.iloc[:, 1:206], df['Class'], test_size=0.20, random_state=42)"
      ],
      "metadata": {
        "id": "jC8aNFu3RYLJ"
      },
      "execution_count": null,
      "outputs": []
    },
    {
      "cell_type": "code",
      "source": [
        "def r2(y_true,y_pred):\n",
        "    m_t_v=np.mean(y_true)\n",
        "    numerator=0\n",
        "    denominator=0\n",
        "    for yt,yp in zip(y_true,y_pred):\n",
        "        numerator +=(yt-yp)**2\n",
        "        denominator +=(yt-m_t_v)**2\n",
        "    r=numerator/denominator\n",
        "    return 1-r"
      ],
      "metadata": {
        "id": "BBEurR4cRwSf"
      },
      "execution_count": null,
      "outputs": []
    },
    {
      "cell_type": "code",
      "source": [
        "def scoreset(y_true,y_pred):\n",
        "    score_set=[]\n",
        "    pred=y_pred\n",
        "    y_test=y_true\n",
        "    print(\"accuracy:\",accuracy_score(y_test,pred))\n",
        "    score_set.append(accuracy_score(y_test,pred))\n",
        "    print(\"F1 Score:\",f1_score(y_test,pred))\n",
        "    score_set.append(f1_score(y_test,pred))\n",
        "    print(\"Precision:\",precision_score(y_test,pred))\n",
        "    score_set.append(precision_score(y_test,pred))\n",
        "    print(\"Recall:\",recall_score(y_test,pred))\n",
        "    score_set.append(recall_score(y_test,pred))\n",
        "    return score_set"
      ],
      "metadata": {
        "id": "9CJDhtp6RzSX"
      },
      "execution_count": null,
      "outputs": []
    },
    {
      "cell_type": "code",
      "source": [
        "clf = tree.DecisionTreeClassifier()\n",
        "clf.fit(X_train, y_train)\n",
        "\n",
        "# Read the csv test file\n",
        "\n",
        "pred = clf.predict(X_test)\n",
        "# accuracy\n",
        "accuracy = accuracy_score(pred, y_test)\n",
        "print(clf)\n",
        "print(accuracy)\n",
        "print(classification_report(pred, y_test, labels=None))\n",
        "s=scoreset(y_test,pred)"
      ],
      "metadata": {
        "colab": {
          "base_uri": "https://localhost:8080/"
        },
        "id": "GCjF0eXbR8qz",
        "outputId": "45d84e97-1427-4083-f097-ab5df8a30fa3"
      },
      "execution_count": null,
      "outputs": [
        {
          "output_type": "stream",
          "name": "stdout",
          "text": [
            "DecisionTreeClassifier()\n",
            "0.7\n",
            "              precision    recall  f1-score   support\n",
            "\n",
            "           0       0.83      0.50      0.62        10\n",
            "           1       0.64      0.90      0.75        10\n",
            "\n",
            "    accuracy                           0.70        20\n",
            "   macro avg       0.74      0.70      0.69        20\n",
            "weighted avg       0.74      0.70      0.69        20\n",
            "\n",
            "accuracy: 0.7\n",
            "F1 Score: 0.75\n",
            "Precision: 0.9\n",
            "Recall: 0.6428571428571429\n"
          ]
        }
      ]
    },
    {
      "cell_type": "code",
      "source": [
        "import xgboost as xgb\n",
        "\n",
        "xgb_clf = xgb.XGBClassifier()\n",
        "xgb_clf = xgb_clf.fit(X_train, y_train)\n",
        "pred=xgb_clf.predict(X_test)\n",
        "cm=confusion_matrix(y_test, pred)\n",
        "\n",
        "accuracy = accuracy_score(y_test,pred)\n",
        "print(accuracy)\n",
        "print(classification_report(y_test,pred, labels=None))\n",
        "s=scoreset(y_test,pred)"
      ],
      "metadata": {
        "colab": {
          "base_uri": "https://localhost:8080/"
        },
        "id": "ILuumw0CUrj2",
        "outputId": "8748976e-2ebe-4efb-aa67-8696bc30481a"
      },
      "execution_count": null,
      "outputs": [
        {
          "output_type": "stream",
          "name": "stdout",
          "text": [
            "0.8\n",
            "              precision    recall  f1-score   support\n",
            "\n",
            "           0       0.62      0.83      0.71         6\n",
            "           1       0.92      0.79      0.85        14\n",
            "\n",
            "    accuracy                           0.80        20\n",
            "   macro avg       0.77      0.81      0.78        20\n",
            "weighted avg       0.83      0.80      0.81        20\n",
            "\n",
            "accuracy: 0.8\n",
            "F1 Score: 0.8461538461538461\n",
            "Precision: 0.9166666666666666\n",
            "Recall: 0.7857142857142857\n"
          ]
        }
      ]
    },
    {
      "cell_type": "code",
      "source": [
        "from sklearn.linear_model import LogisticRegression\n",
        "\n",
        "clf = LogisticRegression(random_state=0).fit(X_train, y_train)\n",
        "pred=clf.predict(X_test)\n",
        "cm=confusion_matrix(y_test, pred)\n",
        "\n",
        "accuracy = accuracy_score(y_test,pred)\n",
        "print(accuracy)\n",
        "print(classification_report(y_test,pred, labels=None))\n",
        "print(\"cohen kappa score\")\n",
        "print(cohen_kappa_score(y_test, pred))\n",
        "print(cm)\n",
        "pred=pred.astype(\"int64\")\n",
        "s=scoreset(y_test,pred)"
      ],
      "metadata": {
        "colab": {
          "base_uri": "https://localhost:8080/"
        },
        "id": "m9a8za-zVDCA",
        "outputId": "2cc96f09-0e57-4809-80ed-e5fa6ffc1f42"
      },
      "execution_count": null,
      "outputs": [
        {
          "output_type": "stream",
          "name": "stdout",
          "text": [
            "0.55\n",
            "              precision    recall  f1-score   support\n",
            "\n",
            "           0       0.33      0.50      0.40         6\n",
            "           1       0.73      0.57      0.64        14\n",
            "\n",
            "    accuracy                           0.55        20\n",
            "   macro avg       0.53      0.54      0.52        20\n",
            "weighted avg       0.61      0.55      0.57        20\n",
            "\n",
            "cohen kappa score\n",
            "0.0625\n",
            "[[3 3]\n",
            " [6 8]]\n",
            "accuracy: 0.55\n",
            "F1 Score: 0.64\n",
            "Precision: 0.7272727272727273\n",
            "Recall: 0.5714285714285714\n"
          ]
        },
        {
          "output_type": "stream",
          "name": "stderr",
          "text": [
            "/usr/local/lib/python3.7/dist-packages/sklearn/linear_model/_logistic.py:818: ConvergenceWarning: lbfgs failed to converge (status=1):\n",
            "STOP: TOTAL NO. of ITERATIONS REACHED LIMIT.\n",
            "\n",
            "Increase the number of iterations (max_iter) or scale the data as shown in:\n",
            "    https://scikit-learn.org/stable/modules/preprocessing.html\n",
            "Please also refer to the documentation for alternative solver options:\n",
            "    https://scikit-learn.org/stable/modules/linear_model.html#logistic-regression\n",
            "  extra_warning_msg=_LOGISTIC_SOLVER_CONVERGENCE_MSG,\n"
          ]
        }
      ]
    },
    {
      "cell_type": "code",
      "source": [
        "rdF=RandomForestClassifier(n_estimators=250, max_depth=50,random_state=45)\n",
        "rdF.fit(X_train,y_train)\n",
        "pred=rdF.predict(X_test)\n",
        "cm=confusion_matrix(y_test, pred)\n",
        "\n",
        "accuracy = accuracy_score(y_test,pred)\n",
        "print(rdF)\n",
        "print(accuracy)\n",
        "print(classification_report(y_test,pred, labels=None))\n",
        "print(\"cohen kappa score\")\n",
        "print(cohen_kappa_score(y_test, pred))\n",
        "print(cm)\n",
        "pred=pred.astype(\"int64\")\n",
        "s=scoreset(y_test,pred)"
      ],
      "metadata": {
        "colab": {
          "base_uri": "https://localhost:8080/"
        },
        "id": "Y2xItfwLVGuY",
        "outputId": "8b514db9-1f22-4e43-a6bd-1bf43f75d603"
      },
      "execution_count": null,
      "outputs": [
        {
          "output_type": "stream",
          "name": "stdout",
          "text": [
            "RandomForestClassifier(max_depth=50, n_estimators=250, random_state=45)\n",
            "0.85\n",
            "              precision    recall  f1-score   support\n",
            "\n",
            "           0       0.71      0.83      0.77         6\n",
            "           1       0.92      0.86      0.89        14\n",
            "\n",
            "    accuracy                           0.85        20\n",
            "   macro avg       0.82      0.85      0.83        20\n",
            "weighted avg       0.86      0.85      0.85        20\n",
            "\n",
            "cohen kappa score\n",
            "0.6590909090909092\n",
            "[[ 5  1]\n",
            " [ 2 12]]\n",
            "accuracy: 0.85\n",
            "F1 Score: 0.888888888888889\n",
            "Precision: 0.9230769230769231\n",
            "Recall: 0.8571428571428571\n"
          ]
        }
      ]
    },
    {
      "cell_type": "markdown",
      "source": [
        "Few things need to done "
      ],
      "metadata": {
        "id": "t5IbZxfsWOC1"
      }
    },
    {
      "cell_type": "code",
      "source": [
        ""
      ],
      "metadata": {
        "id": "a_-ABHQaWRAz"
      },
      "execution_count": null,
      "outputs": []
    }
  ]
}